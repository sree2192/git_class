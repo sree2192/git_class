{
 "cells": [
  {
   "cell_type": "markdown",
   "id": "a341df93",
   "metadata": {},
   "source": [
    "# Note\n",
    "\n",
    "# A cell by default will be a code cell\n",
    "\n",
    "# To change a code cell to text cell, change the cell as Markdown"
   ]
  },
  {
   "cell_type": "code",
   "execution_count": null,
   "id": "1f12c7fb",
   "metadata": {},
   "outputs": [],
   "source": []
  }
 ],
 "metadata": {
  "kernelspec": {
   "display_name": "Python 3 (ipykernel)",
   "language": "python",
   "name": "python3"
  },
  "language_info": {
   "codemirror_mode": {
    "name": "ipython",
    "version": 3
   },
   "file_extension": ".py",
   "mimetype": "text/x-python",
   "name": "python",
   "nbconvert_exporter": "python",
   "pygments_lexer": "ipython3",
   "version": "3.10.9"
  }
 },
 "nbformat": 4,
 "nbformat_minor": 5
}
